{
 "cells": [
  {
   "cell_type": "markdown",
   "metadata": {},
   "source": [
    "# Display Sample Records"
   ]
  },
  {
   "cell_type": "code",
   "execution_count": 1,
   "metadata": {},
   "outputs": [],
   "source": [
    "import gzip\n",
    "import json\n",
    "import re\n",
    "import os\n",
    "import sys\n",
    "import numpy as np\n",
    "import pandas as pd"
   ]
  },
  {
   "cell_type": "markdown",
   "metadata": {},
   "source": [
    "**Specify your directory here:**"
   ]
  },
  {
   "cell_type": "code",
   "execution_count": 2,
   "metadata": {},
   "outputs": [],
   "source": [
    "DIR = './'"
   ]
  },
  {
   "cell_type": "markdown",
   "metadata": {},
   "source": [
    "**This function shows how to load datasets**"
   ]
  },
  {
   "cell_type": "code",
   "execution_count": 3,
   "metadata": {},
   "outputs": [],
   "source": [
    "def load_data(file_name, head = 100):\n",
    "    count = 0\n",
    "    data = []\n",
    "    with gzip.open(file_name) as fin:\n",
    "        for l in fin:\n",
    "            d = json.loads(l)\n",
    "            count += 1\n",
    "            data.append(d)\n",
    "            \n",
    "            # break if reaches the 100th line\n",
    "            if (head is not None) and (count > head):\n",
    "                break\n",
    "    return data"
   ]
  },
  {
   "cell_type": "markdown",
   "metadata": {},
   "source": [
    "**Load and display sample records of books/authors/works/series**"
   ]
  },
  {
   "cell_type": "code",
   "execution_count": 4,
   "metadata": {},
   "outputs": [],
   "source": [
    "books = load_data(os.path.join(DIR, 'goodreads_books.json.gz'))\n",
    "authors = load_data(os.path.join(DIR, 'goodreads_book_authors.json.gz'))\n",
    "works = load_data(os.path.join(DIR, 'goodreads_book_works.json.gz'))\n",
    "series = load_data(os.path.join(DIR, 'goodreads_book_series.json.gz'))"
   ]
  },
  {
   "cell_type": "code",
   "execution_count": 5,
   "metadata": {},
   "outputs": [
    {
     "name": "stdout",
     "output_type": "stream",
     "text": [
      " == sample record (books) ==\n"
     ]
    },
    {
     "data": {
      "text/plain": [
       "{'isbn': '1934876569',\n",
       " 'text_reviews_count': '6',\n",
       " 'series': ['151854'],\n",
       " 'country_code': 'US',\n",
       " 'language_code': '',\n",
       " 'popular_shelves': [{'count': '515', 'name': 'to-read'},\n",
       "  {'count': '25', 'name': 'fantasy'},\n",
       "  {'count': '11', 'name': 'owned'},\n",
       "  {'count': '11', 'name': 'books-i-own'},\n",
       "  {'count': '9', 'name': 'currently-reading'},\n",
       "  {'count': '9', 'name': 'favorites'},\n",
       "  {'count': '9', 'name': 'magic'},\n",
       "  {'count': '9', 'name': 'avalon'},\n",
       "  {'count': '8', 'name': 'young-adult'},\n",
       "  {'count': '6', 'name': 'series'},\n",
       "  {'count': '6', 'name': 'fiction'},\n",
       "  {'count': '5', 'name': 'books'},\n",
       "  {'count': '4', 'name': 'childrens-books'},\n",
       "  {'count': '4', 'name': 'owned-books'},\n",
       "  {'count': '4', 'name': 'adventure'},\n",
       "  {'count': '4', 'name': 'middle-grade'},\n",
       "  {'count': '4', 'name': 'children'},\n",
       "  {'count': '4', 'name': 'avalon-web-of-magic'},\n",
       "  {'count': '3', 'name': 'ya'},\n",
       "  {'count': '3', 'name': 'want'},\n",
       "  {'count': '3', 'name': 'teen'},\n",
       "  {'count': '3', 'name': 'faeries'},\n",
       "  {'count': '3', 'name': 'childrens'},\n",
       "  {'count': '2', 'name': 'children-s'},\n",
       "  {'count': '2', 'name': '4-stars'},\n",
       "  {'count': '2', 'name': 'library'},\n",
       "  {'count': '2', 'name': 'default'},\n",
       "  {'count': '2', 'name': 'dragons'},\n",
       "  {'count': '2', 'name': 'witches'},\n",
       "  {'count': '2', 'name': 'paranormal'},\n",
       "  {'count': '2', 'name': 'r'},\n",
       "  {'count': '2', 'name': 'childhood'},\n",
       "  {'count': '2', 'name': 'my-childhood'},\n",
       "  {'count': '2', 'name': 'children-s-books'},\n",
       "  {'count': '2', 'name': 'rachel-roberts'},\n",
       "  {'count': '2', 'name': 'fairies'},\n",
       "  {'count': '2', 'name': 'childhood-favorites'},\n",
       "  {'count': '2', 'name': 'kids-books'},\n",
       "  {'count': '2', 'name': 'kids'},\n",
       "  {'count': '2', 'name': 'my-books'},\n",
       "  {'count': '2', 'name': 'avalon--web-of-magic'},\n",
       "  {'count': '2', 'name': 'read-in-2009'},\n",
       "  {'count': '2', 'name': 'books-i-have'},\n",
       "  {'count': '2', 'name': 'to-buy'},\n",
       "  {'count': '1', 'name': 'own-own-unread'},\n",
       "  {'count': '1', 'name': 'own-own'},\n",
       "  {'count': '1', 'name': 'nostalgia'},\n",
       "  {'count': '1', 'name': 'kid-s-books'},\n",
       "  {'count': '1', 'name': 'america-and-canada'},\n",
       "  {'count': '1', 'name': 'low-fantasy'},\n",
       "  {'count': '1', 'name': '5th'},\n",
       "  {'count': '1', 'name': 'tbr-series'},\n",
       "  {'count': '1', 'name': 'part-of-a-series'},\n",
       "  {'count': '1', 'name': 'fantasy-ya'},\n",
       "  {'count': '1', 'name': 'novel'},\n",
       "  {'count': '1', 'name': 'where-i-started'},\n",
       "  {'count': '1', 'name': 'kj2016-17-2nd-3rd-grade'},\n",
       "  {'count': '1', 'name': 'kids-books-tracking'},\n",
       "  {'count': '1', 'name': 'book-library-now'},\n",
       "  {'count': '1', 'name': 'faerie-tales'},\n",
       "  {'count': '1', 'name': 'need-to-buy'},\n",
       "  {'count': '1', 'name': 'reread-in-2015'},\n",
       "  {'count': '1', 'name': 'personal-shelf'},\n",
       "  {'count': '1', 'name': 'childhood-favourites'},\n",
       "  {'count': '1', 'name': 'all-time-favourites'},\n",
       "  {'count': '1', 'name': 'novels'},\n",
       "  {'count': '1', 'name': 'to-buy-middlegrade'},\n",
       "  {'count': '1', 'name': 'literature'},\n",
       "  {'count': '1', 'name': 'bought'},\n",
       "  {'count': '1', 'name': 'bookshelf'},\n",
       "  {'count': '1', 'name': 'sci-fi-fantasy'},\n",
       "  {'count': '1', 'name': 'physical-copies'},\n",
       "  {'count': '1', 'name': 'childhood-books'},\n",
       "  {'count': '1', 'name': '0-books-i-own'},\n",
       "  {'count': '1', 'name': 'avalonwebofmagicseries'},\n",
       "  {'count': '1', 'name': 'shelfari-wishlist'},\n",
       "  {'count': '1', 'name': 'tbr-2014'},\n",
       "  {'count': '1', 'name': 'science-fiction-fantasy'},\n",
       "  {'count': '1', 'name': 'pc-100-199'},\n",
       "  {'count': '1', 'name': 'e-book'},\n",
       "  {'count': '1', 'name': 'c-purple'},\n",
       "  {'count': '1', 'name': 'author-r'},\n",
       "  {'count': '1', 'name': 'action-adventure'},\n",
       "  {'count': '1', 'name': 'a'},\n",
       "  {'count': '1', 'name': 'reg'},\n",
       "  {'count': '1', 'name': 'books-that-i-own'},\n",
       "  {'count': '1', 'name': 'middle-grade-lit'},\n",
       "  {'count': '1', 'name': 'child'},\n",
       "  {'count': '1', 'name': 'younger-reads'},\n",
       "  {'count': '1', 'name': 'fantasy-dystopians'},\n",
       "  {'count': '1', 'name': 'currently-have'},\n",
       "  {'count': '1', 'name': 'no-longer-have'},\n",
       "  {'count': '1', 'name': 'elements'},\n",
       "  {'count': '1', 'name': 'own-it'},\n",
       "  {'count': '1', 'name': 'currently-in-bookshelf'},\n",
       "  {'count': '1', 'name': 'my-favorites'},\n",
       "  {'count': '1', 'name': 'to-re-read'},\n",
       "  {'count': '1', 'name': 'not-available-on-kindle'},\n",
       "  {'count': '1', 'name': 'have-read'},\n",
       "  {'count': '1', 'name': 'childrens-and-middle-grade'}],\n",
       " 'asin': '',\n",
       " 'is_ebook': 'false',\n",
       " 'average_rating': '4.22',\n",
       " 'kindle_asin': '',\n",
       " 'similar_books': ['948696',\n",
       "  '439885',\n",
       "  '274955',\n",
       "  '12978730',\n",
       "  '372986',\n",
       "  '2167631',\n",
       "  '566784',\n",
       "  '503322'],\n",
       " 'description': \"To Kara's astonishment, she discovers that a portal has opened in her bedroom closet and two goblins have fallen through! They refuse to return to the fairy realms and be drafted for an impending war. In an attempt to roust the pesky creatures, Kara falls through the portal, smack into the middle of a huge war. Kara meets Queen Selinda, who appoints Kara as a Fairy Princess and assigns her an impossible task: to put an end to the war using her diplomatic skills.\\nAll's Fairy In Love And War is the eighth book in Avalon: Web of Magic, a twelve-book fantasy series for middle grade readers. Through their magical journey, the teenage heroines discover who they really are . . . and run into plenty of good guys, bad guys, and cute guys. Out of print for two years, Seven Seas is pleased to return the Avalon series to print in editions targeted for today's readers, with new manga-style covers and interior illustrations.\",\n",
       " 'format': 'Paperback',\n",
       " 'link': 'https://www.goodreads.com/book/show/6066812-all-s-fairy-in-love-and-war',\n",
       " 'authors': [{'author_id': '19158', 'role': ''}],\n",
       " 'publisher': 'Seven Seas',\n",
       " 'num_pages': '216',\n",
       " 'publication_day': '3',\n",
       " 'isbn13': '9781934876565',\n",
       " 'publication_month': '3',\n",
       " 'edition_information': '',\n",
       " 'publication_year': '2009',\n",
       " 'url': 'https://www.goodreads.com/book/show/6066812-all-s-fairy-in-love-and-war',\n",
       " 'image_url': 'https://images.gr-assets.com/books/1316637798m/6066812.jpg',\n",
       " 'book_id': '6066812',\n",
       " 'ratings_count': '98',\n",
       " 'work_id': '701117',\n",
       " 'title': \"All's Fairy in Love and War (Avalon: Web of Magic, #8)\",\n",
       " 'title_without_series': \"All's Fairy in Love and War (Avalon: Web of Magic, #8)\"}"
      ]
     },
     "metadata": {},
     "output_type": "display_data"
    },
    {
     "name": "stdout",
     "output_type": "stream",
     "text": [
      " == sample record (authors) ==\n"
     ]
    },
    {
     "data": {
      "text/plain": [
       "{'average_rating': '3.99',\n",
       " 'author_id': '5807700',\n",
       " 'text_reviews_count': '986',\n",
       " 'name': 'V.L. Locey',\n",
       " 'ratings_count': '3130'}"
      ]
     },
     "metadata": {},
     "output_type": "display_data"
    },
    {
     "name": "stdout",
     "output_type": "stream",
     "text": [
      " == sample record (works) ==\n"
     ]
    },
    {
     "data": {
      "text/plain": [
       "{'books_count': '1',\n",
       " 'reviews_count': '2147',\n",
       " 'original_publication_month': '6',\n",
       " 'default_description_language_code': '',\n",
       " 'text_reviews_count': '105',\n",
       " 'best_book_id': '22600550',\n",
       " 'original_publication_year': '2014',\n",
       " 'original_title': '',\n",
       " 'rating_dist': '5:172|4:289|3:177|2:37|1:11|total:686',\n",
       " 'default_chaptering_book_id': '',\n",
       " 'original_publication_day': '27',\n",
       " 'original_language_id': '',\n",
       " 'ratings_count': '686',\n",
       " 'media_type': 'book',\n",
       " 'ratings_sum': '2632',\n",
       " 'work_id': '41697569'}"
      ]
     },
     "metadata": {},
     "output_type": "display_data"
    },
    {
     "name": "stdout",
     "output_type": "stream",
     "text": [
      " == sample record (series) ==\n"
     ]
    },
    {
     "data": {
      "text/plain": [
       "{'numbered': 'true',\n",
       " 'note': '',\n",
       " 'description': '',\n",
       " 'title': 'William the Conqueror',\n",
       " 'series_works_count': '2',\n",
       " 'series_id': '152366',\n",
       " 'primary_work_count': '2'}"
      ]
     },
     "metadata": {},
     "output_type": "display_data"
    }
   ],
   "source": [
    "print(' == sample record (books) ==')\n",
    "display(np.random.choice(books))\n",
    "print(' == sample record (authors) ==')\n",
    "display(np.random.choice(authors))\n",
    "print(' == sample record (works) ==')\n",
    "display(np.random.choice(works))\n",
    "print(' == sample record (series) ==')\n",
    "display(np.random.choice(series))"
   ]
  },
  {
   "cell_type": "markdown",
   "metadata": {},
   "source": [
    "**Load and display sample records of user-book interactions (shelves)**"
   ]
  },
  {
   "cell_type": "code",
   "execution_count": 6,
   "metadata": {},
   "outputs": [
    {
     "data": {
      "text/plain": [
       "{'user_id': '8842281e1d1347389f2ab93d60773d4d',\n",
       " 'book_id': '45252',\n",
       " 'review_id': '7c65da9bddf845f7811c5f88d6375449',\n",
       " 'is_read': False,\n",
       " 'rating': 0,\n",
       " 'review_text_incomplete': '',\n",
       " 'date_added': 'Tue Apr 11 15:50:33 -0700 2017',\n",
       " 'date_updated': 'Tue Apr 11 15:50:34 -0700 2017',\n",
       " 'read_at': '',\n",
       " 'started_at': ''}"
      ]
     },
     "execution_count": 6,
     "metadata": {},
     "output_type": "execute_result"
    }
   ],
   "source": [
    "interactions = load_data(os.path.join(DIR, 'goodreads_interactions_dedup.json.gz'))\n",
    "np.random.choice(interactions)"
   ]
  },
  {
   "cell_type": "markdown",
   "metadata": {},
   "source": [
    "**Load and display sample records of book reviews**"
   ]
  },
  {
   "cell_type": "code",
   "execution_count": 7,
   "metadata": {},
   "outputs": [
    {
     "data": {
      "text/plain": [
       "{'user_id': '8842281e1d1347389f2ab93d60773d4d',\n",
       " 'book_id': '13453029',\n",
       " 'review_id': '46a6e1a14e8afc82d221fec0a2bd3dd0',\n",
       " 'rating': 4,\n",
       " 'review_text': \"A fun fast paced book that sucks you in right away and doesn't let go. The remnants of humanity live in a 150 story silo below the earth and can't leave as the outside is now toxic. This is a bit of an odd thing to have happened, but it gives us a nice palette to think about things. \\n Everything is rationed, including how many children you can have. People self-identify by their profession and where in the silo they live: farmers and mechanics in the lowers, IT in the mids, and professional class in the uppers. The working class wear color coded uniforms to easily distinguish them. \\n The book was a lot about control. How to control a contained civilization, and give them hope (eg a live feed of the outside) and yet keep them in harmony and doing their functions. Strange mechanisms of control were built all over the silo: communication was oddly limited given the IT resources they have - many messages had to be delivered by courier as emails cost valuable money to send. Most strange of all - there is no elevator, which forces anyone wanting to travel the length of the silo to spend 2-3 days on the journey. \\n The cleaning ritual was a strange bit of culture. Upon reflection, I can see why it was necessary. If people never go outside, uncertainty of it still being bad would creep in, and people would need to try it. As perhaps happened in Silo 17. \\n I really liked the unraveling of Bernard, and how he went from repulsive/annoying, to understandable once you understood his role and responsibility. His role is to eliminate any doubt in the delicate balance of the silo. Opening the book up with the doubt of Holston was brilliant as it sucked you in immediately. \\n I liked Juliet too - she was the right combo of being determined to do right, and having brains and grit.\",\n",
       " 'date_added': 'Tue Dec 04 11:12:22 -0800 2012',\n",
       " 'date_updated': 'Sat Jul 26 11:43:28 -0700 2014',\n",
       " 'read_at': 'Tue Jul 08 00:00:00 -0700 2014',\n",
       " 'started_at': 'Wed Jul 02 00:00:00 -0700 2014',\n",
       " 'n_votes': 5,\n",
       " 'n_comments': 1}"
      ]
     },
     "execution_count": 7,
     "metadata": {},
     "output_type": "execute_result"
    }
   ],
   "source": [
    "reviews = load_data(os.path.join(DIR, 'goodreads_reviews_parsed.json.gz'))\n",
    "np.random.choice(reviews)"
   ]
  },
  {
   "cell_type": "code",
   "execution_count": null,
   "metadata": {},
   "outputs": [],
   "source": []
  }
 ],
 "metadata": {
  "kernelspec": {
   "display_name": "Python 3",
   "language": "python",
   "name": "python3"
  },
  "language_info": {
   "codemirror_mode": {
    "name": "ipython",
    "version": 3
   },
   "file_extension": ".py",
   "mimetype": "text/x-python",
   "name": "python",
   "nbconvert_exporter": "python",
   "pygments_lexer": "ipython3",
   "version": "3.7.3"
  }
 },
 "nbformat": 4,
 "nbformat_minor": 2
}
